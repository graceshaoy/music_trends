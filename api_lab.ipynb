{
 "cells": [
  {
   "cell_type": "code",
   "execution_count": null,
   "metadata": {},
   "outputs": [],
   "source": [
    "spotify_client_id = \"my spotify client id\"\n",
    "spotify_client_secret = \"my spotify client secret\""
   ]
  },
  {
   "cell_type": "code",
   "execution_count": 5,
   "metadata": {},
   "outputs": [],
   "source": [
    "import spotipy\n",
    "from spotipy.oauth2 import SpotifyClientCredentials\n",
    "import requests"
   ]
  },
  {
   "cell_type": "code",
   "execution_count": 7,
   "metadata": {},
   "outputs": [
    {
     "data": {
      "text/plain": [
       "<Response [200]>"
      ]
     },
     "execution_count": 7,
     "metadata": {},
     "output_type": "execute_result"
    }
   ],
   "source": [
    "requests.get(\"https://en.wikipedia.org/wiki/Tf%E2%80%93idf\")"
   ]
  },
  {
   "cell_type": "code",
   "execution_count": 6,
   "metadata": {},
   "outputs": [],
   "source": [
    "client_credentials_manager = SpotifyClientCredentials(client_id = spotify_client_id, client_secret = spotify_client_secret)\n",
    "sp = spotipy.Spotify(client_credentials_manager = client_credentials_manager)\n",
    "\n",
    "r = requests.post('https://accounts.spotify.com/api/token',\n",
    "data ={'grant_type': 'client_credentials'},auth=(spotify_client_id, spotify_client_secret))\n",
    "bearer = dict(r.json())['access_token']"
   ]
  },
  {
   "cell_type": "code",
   "execution_count": 9,
   "metadata": {},
   "outputs": [],
   "source": [
    "greeting = 'hey'"
   ]
  },
  {
   "cell_type": "code",
   "execution_count": 11,
   "metadata": {},
   "outputs": [
    {
     "name": "stdout",
     "output_type": "stream",
     "text": [
      "greeting='hey'\n"
     ]
    }
   ],
   "source": [
    "print(f'{greeting=}')"
   ]
  },
  {
   "cell_type": "code",
   "execution_count": null,
   "metadata": {},
   "outputs": [],
   "source": [
    "# r = requests.get('https://api.spotify.com/v1/recommendations/available-genre-seeds', headers={'Authorization': 'Bearer ' + bearer})\n",
    "# all_genres = set(r.json()['genres'])\n",
    "hottopic_genres = ['rock','garage','hip-hop','k-pop','metal','punk','emo','anime']"
   ]
  },
  {
   "cell_type": "code",
   "execution_count": null,
   "metadata": {},
   "outputs": [],
   "source": [
    "def spotify_query(genre,year,max=10000):\n",
    "    uri,artist_name,track_name,popularity,track_id,release_date = [],[],[],[],[],[]\n",
    "    for i in range(0,max,50): # im searching the first 1000 results of \"q\", 50 at a time\n",
    "        try: \n",
    "            track_res = sp.search(q=f'genre:{genre} year:{year}', type='track', limit=50, offset=i) # offset here is so i don't get the same 50 each time\n",
    "            for i, t in enumerate(track_res['tracks']['items']): # track res is a nested dictionary / with dicitonaries or lists inside\n",
    "                uri.append(t['uri'])\n",
    "                artist_name.append(t['artists'][0]['name'])\n",
    "                track_name.append(t['name'])\n",
    "                popularity.append(t['popularity'])\n",
    "                track_id.append(t['id'])\n",
    "                release_date.append(t['album']['release_date'])\n",
    "        except:\n",
    "            # print(i)\n",
    "            break\n",
    "    df = pd.DataFrame({'uri':uri,'artist_name':artist_name, 'track_name':track_name, 'popularity':popularity, 'track_id':track_id, 'release_date':release_date})\n",
    "    df['release_date'] = pd.to_datetime(df['release_date'])\n",
    "    df['year'] = df['release_date'].dt.year\n",
    "    df = df.set_index('uri')\n",
    "    return df"
   ]
  }
 ],
 "metadata": {
  "kernelspec": {
   "display_name": "macs404patterns",
   "language": "python",
   "name": "python3"
  },
  "language_info": {
   "codemirror_mode": {
    "name": "ipython",
    "version": 3
   },
   "file_extension": ".py",
   "mimetype": "text/x-python",
   "name": "python",
   "nbconvert_exporter": "python",
   "pygments_lexer": "ipython3",
   "version": "3.9.7"
  },
  "orig_nbformat": 4,
  "vscode": {
   "interpreter": {
    "hash": "16e6344a21c3cc7eae104c58ede41770a38426a5c461d8f0f09c85c4123f8035"
   }
  }
 },
 "nbformat": 4,
 "nbformat_minor": 2
}
